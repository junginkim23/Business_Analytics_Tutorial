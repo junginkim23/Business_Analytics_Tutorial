{
 "cells": [
  {
   "cell_type": "code",
   "execution_count": 1,
   "metadata": {},
   "outputs": [
    {
     "name": "stdout",
     "output_type": "stream",
     "text": [
      "# Creating initial population with 10 chromosomes...\n",
      "[[0 1 0 0 0 1 0 0 0 1 0 0 0]\n",
      " [0 1 0 1 1 1 0 1 0 1 1 1 1]\n",
      " [1 1 1 1 0 0 1 1 1 0 1 0 0]\n",
      " [0 0 0 1 1 1 1 1 0 1 1 0 1]\n",
      " [0 1 0 1 1 0 0 0 0 0 0 0 0]\n",
      " [1 1 0 1 1 1 1 0 1 0 1 1 1]\n",
      " [0 1 0 1 0 1 0 0 1 0 1 1 1]\n",
      " [1 1 1 1 1 1 1 1 0 0 1 1 1]\n",
      " [1 1 1 1 1 0 1 0 1 1 0 1 0]\n",
      " [1 1 0 1 0 1 0 0 1 1 0 1 1]]\n",
      "# Evaluating initial population...\n"
     ]
    }
   ],
   "source": [
    "import pandas as pd\n",
    "import numpy as np\n",
    "from genetic_selector import GeneticSelector\n",
    "from sklearn import datasets\n",
    "from sklearn.ensemble import RandomForestClassifier\n",
    "from sklearn.model_selection import train_test_split\n",
    "\n",
    "# Set random state\n",
    "random_state = 42\n",
    "\n",
    "# Define estimator\n",
    "rf_clf = RandomForestClassifier(n_estimators=300, random_state=random_state)\n",
    "\n",
    "# Load example dataset from Scikit-learn\n",
    "dataset = datasets.load_wine()\n",
    "X = pd.DataFrame(data=dataset['data'])\n",
    "y = pd.Series(data=dataset['target'])\n",
    "\n",
    "# Split into train and test\n",
    "train_X, test_X, train_y, test_y = train_test_split(X, y, test_size=0.20, random_state=random_state)\n",
    "\n",
    "# Set a initial best chromosome for first population\n",
    "best_chromosome = np.array([1, 1, 0, 0, 0, 0, 0, 0, 0, 0, 1, 1, 0])\n",
    "\n",
    "# Create GeneticSelector instance\n",
    "# You should not set the number of cores (n_jobs) in the Scikit-learn\n",
    "# model to avoid UserWarning. The genetic selector is already parallelizable.\n",
    "genetic_selector = GeneticSelector(\n",
    "    estimator=rf_clf, cv=5, n_gen=30, population_size=10,\n",
    "    crossover_rate=0.8, mutation_rate=0.15, tournament_k=2,\n",
    "    calc_train_score=True, initial_best_chromosome=best_chromosome,\n",
    "    n_jobs=-1, random_state=random_state, verbose=0)\n",
    "\n",
    "# Fit features\n",
    "genetic_selector.fit(train_X, train_y)\n",
    "\n",
    "# Show the results\n",
    "support = genetic_selector.support()\n",
    "best_chromosome = support[0][0]\n",
    "score = support[0][1]\n",
    "best_epoch = support[0][2]\n",
    "print(f'Best chromosome: {best_chromosome} -> (Selected Features IDs: {np.where(best_chromosome)[0]})')\n",
    "print(f'Best score: {score}')\n",
    "print(f'Best epoch: {best_epoch}')\n",
    "\n",
    "test_scores = support[1]\n",
    "train_scores = support[2]\n",
    "chromosomes_history = support[3]\n",
    "print(f'Test scores: {test_scores}')\n",
    "print(f'Train scores: {train_scores}')\n",
    "print(f'Chromosomes history: {chromosomes_history}')"
   ]
  }
 ],
 "metadata": {
  "kernelspec": {
   "display_name": "Python 3.8.0 ('ba')",
   "language": "python",
   "name": "python3"
  },
  "language_info": {
   "codemirror_mode": {
    "name": "ipython",
    "version": 3
   },
   "file_extension": ".py",
   "mimetype": "text/x-python",
   "name": "python",
   "nbconvert_exporter": "python",
   "pygments_lexer": "ipython3",
   "version": "3.8.0"
  },
  "orig_nbformat": 4,
  "vscode": {
   "interpreter": {
    "hash": "34af9ff82158e5e82b730e226e21a5c4d3d7b7d02b775c3d871a0c30f79e3bc3"
   }
  }
 },
 "nbformat": 4,
 "nbformat_minor": 2
}
